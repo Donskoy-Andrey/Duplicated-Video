{
 "cells": [
  {
   "cell_type": "markdown",
   "id": "6a0c4372-dc01-458b-83bd-960d7682b00c",
   "metadata": {},
   "source": [
    "# Use pretrained backbone to get video embeddings"
   ]
  },
  {
   "cell_type": "code",
   "execution_count": null,
   "id": "a3121d63-b59b-40e3-aed7-440a61981ddc",
   "metadata": {},
   "outputs": [],
   "source": [
    "import torch\n",
    "import torchvision\n",
    "import pytorchvideo"
   ]
  },
  {
   "cell_type": "code",
   "execution_count": null,
   "id": "8bd1edb9-729b-429c-a209-1817d7ac5847",
   "metadata": {},
   "outputs": [],
   "source": [
    "torch.cuda.empty_cache()\n",
    "#device = \"cpu\"\n",
    "device = \"cuda:1\" if torch.cuda.is_available() else \"cpu\"\n",
    "print(\"Device: \" + device)\n",
    "print(f\"Devices count: {torch.cuda.device_count()}\")"
   ]
  },
  {
   "cell_type": "code",
   "execution_count": null,
   "id": "08ad6d73-5e0a-4be1-a215-725a055a541d",
   "metadata": {},
   "outputs": [],
   "source": [
    "from pathlib import Path"
   ]
  },
  {
   "cell_type": "code",
   "execution_count": null,
   "id": "a7d9edaf-f7a9-44f9-b67d-791802e2ee67",
   "metadata": {},
   "outputs": [],
   "source": [
    "import json\n",
    "import pandas\n",
    "import numpy"
   ]
  },
  {
   "cell_type": "code",
   "execution_count": null,
   "id": "0e0f749a-f417-4b63-bc92-173d5366691c",
   "metadata": {},
   "outputs": [],
   "source": [
    "from tqdm import tqdm"
   ]
  },
  {
   "cell_type": "code",
   "execution_count": null,
   "id": "f4c063a0-a803-4e6c-b3f3-2cfaf22bd0c2",
   "metadata": {},
   "outputs": [],
   "source": [
    "from misc.utils_mvit import *"
   ]
  },
  {
   "cell_type": "code",
   "execution_count": null,
   "id": "0076c02f-4d5f-4e2d-9fcf-87d9851cc593",
   "metadata": {},
   "outputs": [],
   "source": [
    "data_path = Path(\"./data\")\n",
    "videos_path = data_path / \"train_dataset\"\n",
    "metadata_path = data_path / \"train.csv\""
   ]
  },
  {
   "cell_type": "code",
   "execution_count": null,
   "id": "dc4a4e03-e7d2-443d-9e90-5d58ad8de7d1",
   "metadata": {},
   "outputs": [],
   "source": [
    "filenames = walk_directory(videos_path)\n",
    "filenames = sorted(filenames)"
   ]
  },
  {
   "cell_type": "markdown",
   "id": "bb17c534-5a91-445e-be5b-7a718382a5dd",
   "metadata": {},
   "source": [
    "## Model"
   ]
  },
  {
   "cell_type": "code",
   "execution_count": null,
   "id": "287b45c5-8ab6-470c-a4bd-6e4e6506392e",
   "metadata": {},
   "outputs": [],
   "source": [
    "video_transform = VideoTransform()"
   ]
  },
  {
   "cell_type": "code",
   "execution_count": null,
   "id": "af0fe9a1-2ef2-48c1-82ed-6bd567cbb6a7",
   "metadata": {},
   "outputs": [],
   "source": [
    "#model_name = \"mvit_v1_b\"\n",
    "model_name = \"mvit_v2_s\"\n",
    "model = getattr(torchvision.models.video, model_name)(weights=torchvision.models.video.MViT_V2_S_Weights.KINETICS400_V1)"
   ]
  },
  {
   "cell_type": "code",
   "execution_count": null,
   "id": "8c968f68-9418-494f-ba59-6f4ac44a9ccf",
   "metadata": {},
   "outputs": [],
   "source": [
    "model = model.to(device)\n",
    "model = model.eval()"
   ]
  },
  {
   "cell_type": "code",
   "execution_count": null,
   "id": "8f4ea99f-3672-4870-91d5-1ef98bec8838",
   "metadata": {},
   "outputs": [],
   "source": [
    "embeddings, durations = encode_videos(\n",
    "    videos_path,\n",
    "    tqdm(filenames),\n",
    "    model,\n",
    "    video_transform,\n",
    "    torchvision.models.video.MViT_V1_B_Weights.KINETICS400_V1.transforms(),\n",
    "    device,\n",
    "    batch_size=32\n",
    ")"
   ]
  },
  {
   "cell_type": "markdown",
   "id": "f5676df4-187b-4c23-a75e-001130e37a52",
   "metadata": {},
   "source": [
    "## Save embeddings"
   ]
  },
  {
   "cell_type": "code",
   "execution_count": null,
   "id": "daa78528-7857-47ad-93c1-71496e324df0",
   "metadata": {},
   "outputs": [],
   "source": [
    "import os"
   ]
  },
  {
   "cell_type": "code",
   "execution_count": null,
   "id": "56601ebb-f017-4c42-94fb-09c0663bbd99",
   "metadata": {},
   "outputs": [],
   "source": [
    "embeddings_path = data_path / model_name\n",
    "os.makedirs(embeddings_path, exist_ok=True)"
   ]
  },
  {
   "cell_type": "code",
   "execution_count": null,
   "id": "dd9122d9-b470-4829-8dc0-93f977372702",
   "metadata": {},
   "outputs": [],
   "source": [
    "embeddings_path_torch = embeddings_path / \"embeddings.pt\"\n",
    "embeddings_path_numpy = embeddings_path / \"embeddings\"\n",
    "embeddings_uuid_path  = embeddings_path / \"embeddings_uuid.csv\""
   ]
  },
  {
   "cell_type": "code",
   "execution_count": null,
   "id": "91883c73-65d8-47a6-89f2-ea8bc55e1820",
   "metadata": {},
   "outputs": [],
   "source": [
    "torch.save(embeddings, embeddings_path_torch)\n",
    "numpy.savez(embeddings_path_numpy, embeddings.numpy())"
   ]
  },
  {
   "cell_type": "code",
   "execution_count": null,
   "id": "7e9c4efd-5a74-453c-a9fe-afff437e77f8",
   "metadata": {},
   "outputs": [],
   "source": [
    "embeddings_uuid = pandas.DataFrame([filename.split('.')[0] for filename in filenames], columns=[\"uuid\"])"
   ]
  },
  {
   "cell_type": "code",
   "execution_count": null,
   "id": "69bd3df5-7104-4f3a-b87b-76be18eee370",
   "metadata": {},
   "outputs": [],
   "source": [
    "embeddings_uuid.to_csv(embeddings_uuid_path, index=False)"
   ]
  },
  {
   "cell_type": "code",
   "execution_count": null,
   "id": "934d759b-fc34-409a-994e-5b05b9dcf4d0",
   "metadata": {},
   "outputs": [],
   "source": []
  }
 ],
 "metadata": {
  "kernelspec": {
   "display_name": "Python 3 (ipykernel)",
   "language": "python",
   "name": "python3"
  },
  "language_info": {
   "codemirror_mode": {
    "name": "ipython",
    "version": 3
   },
   "file_extension": ".py",
   "mimetype": "text/x-python",
   "name": "python",
   "nbconvert_exporter": "python",
   "pygments_lexer": "ipython3",
   "version": "3.10.13"
  }
 },
 "nbformat": 4,
 "nbformat_minor": 5
}
