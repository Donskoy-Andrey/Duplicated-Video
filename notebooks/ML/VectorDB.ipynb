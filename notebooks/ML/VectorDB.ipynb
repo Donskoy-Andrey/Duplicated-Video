{
 "cells": [
  {
   "cell_type": "code",
   "execution_count": 1,
   "id": "44c42a2b-dd2e-4f2d-a9c6-bd0dcf72a727",
   "metadata": {},
   "outputs": [],
   "source": [
    "import torch\n",
    "import torchvision\n",
    "import pytorchvideo"
   ]
  },
  {
   "cell_type": "code",
   "execution_count": 2,
   "id": "cd65d679-47b5-4e67-8689-0ae49c05aec7",
   "metadata": {},
   "outputs": [
    {
     "name": "stdout",
     "output_type": "stream",
     "text": [
      "Device: cuda:1\n",
      "Devices count: 2\n"
     ]
    }
   ],
   "source": [
    "torch.cuda.empty_cache()\n",
    "#device = \"cpu\"\n",
    "device = \"cuda:1\" if torch.cuda.is_available() else \"cpu\"\n",
    "print(\"Device: \" + device)\n",
    "print(f\"Devices count: {torch.cuda.device_count()}\")"
   ]
  },
  {
   "cell_type": "code",
   "execution_count": 3,
   "id": "982b0a27-9b62-437b-9399-accd1096e7a4",
   "metadata": {},
   "outputs": [],
   "source": [
    "from pathlib import Path"
   ]
  },
  {
   "cell_type": "code",
   "execution_count": 4,
   "id": "c60765ee-d266-425a-8d20-62dca17190ac",
   "metadata": {},
   "outputs": [],
   "source": [
    "import faiss\n",
    "import json\n",
    "import pandas\n",
    "import numpy"
   ]
  },
  {
   "cell_type": "code",
   "execution_count": 5,
   "id": "0793100d-729c-48fe-bfa8-f68ba42c3250",
   "metadata": {},
   "outputs": [],
   "source": [
    "from tqdm import tqdm"
   ]
  },
  {
   "cell_type": "code",
   "execution_count": 6,
   "id": "6a339244-f6bf-40bb-b985-c1ed4f268c2c",
   "metadata": {},
   "outputs": [
    {
     "name": "stderr",
     "output_type": "stream",
     "text": [
      "/opt/conda/lib/python3.10/site-packages/torchvision/transforms/_functional_video.py:6: UserWarning: The 'torchvision.transforms._functional_video' module is deprecated since 0.12 and will be removed in the future. Please use the 'torchvision.transforms.functional' module instead.\n",
      "  warnings.warn(\n",
      "/opt/conda/lib/python3.10/site-packages/torchvision/transforms/_transforms_video.py:22: UserWarning: The 'torchvision.transforms._transforms_video' module is deprecated since 0.12 and will be removed in the future. Please use the 'torchvision.transforms' module instead.\n",
      "  warnings.warn(\n"
     ]
    }
   ],
   "source": [
    "from misc.utils import *\n",
    "from misc.predict import *"
   ]
  },
  {
   "cell_type": "code",
   "execution_count": 7,
   "id": "d9b2e66c-41d9-4acb-9136-5858da85a189",
   "metadata": {},
   "outputs": [],
   "source": [
    "data_path = Path(\"./data\")\n",
    "videos_path = data_path / \"train_dataset\"\n",
    "metadata_path = data_path / \"train.csv\""
   ]
  },
  {
   "cell_type": "code",
   "execution_count": 8,
   "id": "e7933fe4-72ab-464e-a299-3b89b4cc10f2",
   "metadata": {},
   "outputs": [],
   "source": [
    "model_name = \"mvit_v2_s\"\n",
    "embeddings_path = data_path / model_name"
   ]
  },
  {
   "cell_type": "code",
   "execution_count": 9,
   "id": "5014fe19-cc6a-49f5-9c02-a8bf44ef1f86",
   "metadata": {},
   "outputs": [],
   "source": [
    "embeddings_path_torch = embeddings_path / \"embeddings.pt\"\n",
    "embeddings_uuid_path  = embeddings_path / \"embeddings_uuid.csv\""
   ]
  },
  {
   "cell_type": "markdown",
   "id": "ef6d3213-668f-4c15-9422-6323879dbfd1",
   "metadata": {},
   "source": [
    "## Load metadata"
   ]
  },
  {
   "cell_type": "code",
   "execution_count": 10,
   "id": "99fea94b-20d9-4d8a-ba97-cedfa0ad6fbe",
   "metadata": {},
   "outputs": [],
   "source": [
    "pandas.set_option('display.width', 100)\n",
    "pandas.set_option('display.max_colwidth', 100)"
   ]
  },
  {
   "cell_type": "code",
   "execution_count": 11,
   "id": "b41e5b9f-b63d-4f53-a854-4400a5d20984",
   "metadata": {},
   "outputs": [],
   "source": [
    "metadata_train = pandas.read_csv(metadata_path, index_col=\"uuid\")\n",
    "embeddings_uuid = pandas.read_csv(embeddings_uuid_path)"
   ]
  },
  {
   "cell_type": "code",
   "execution_count": 12,
   "id": "c1111216-6fed-4888-9d8f-7c8beb0fbc6f",
   "metadata": {},
   "outputs": [],
   "source": [
    "id_to_uuid = embeddings_uuid[\"uuid\"].to_numpy()\n",
    "uuid_to_id = {value: index for index, value in enumerate(id_to_uuid)}"
   ]
  },
  {
   "cell_type": "code",
   "execution_count": 13,
   "id": "18e6c969-183c-4995-aab0-ccdd2733efa4",
   "metadata": {},
   "outputs": [
    {
     "data": {
      "text/html": [
       "<div>\n",
       "<style scoped>\n",
       "    .dataframe tbody tr th:only-of-type {\n",
       "        vertical-align: middle;\n",
       "    }\n",
       "\n",
       "    .dataframe tbody tr th {\n",
       "        vertical-align: top;\n",
       "    }\n",
       "\n",
       "    .dataframe thead th {\n",
       "        text-align: right;\n",
       "    }\n",
       "</style>\n",
       "<table border=\"1\" class=\"dataframe\">\n",
       "  <thead>\n",
       "    <tr style=\"text-align: right;\">\n",
       "      <th></th>\n",
       "      <th>created</th>\n",
       "      <th>link</th>\n",
       "      <th>is_duplicate</th>\n",
       "      <th>duplicate_for</th>\n",
       "      <th>is_hard</th>\n",
       "    </tr>\n",
       "    <tr>\n",
       "      <th>uuid</th>\n",
       "      <th></th>\n",
       "      <th></th>\n",
       "      <th></th>\n",
       "      <th></th>\n",
       "      <th></th>\n",
       "    </tr>\n",
       "  </thead>\n",
       "  <tbody>\n",
       "    <tr>\n",
       "      <th>23fac2f2-7f00-48cb-b3ac-aac8caa3b6b4</th>\n",
       "      <td>2024-06-01 00:05:43</td>\n",
       "      <td>https://s3.ritm.media/yappy-db-duplicates/23fac2f2-7f00-48cb-b3ac-aac8caa3b6b4.mp4</td>\n",
       "      <td>False</td>\n",
       "      <td>NaN</td>\n",
       "      <td>False</td>\n",
       "    </tr>\n",
       "    <tr>\n",
       "      <th>2fa37210-3c25-4a87-88f2-1242c2c8a699</th>\n",
       "      <td>2024-06-01 00:11:01</td>\n",
       "      <td>https://s3.ritm.media/yappy-db-duplicates/2fa37210-3c25-4a87-88f2-1242c2c8a699.mp4</td>\n",
       "      <td>False</td>\n",
       "      <td>NaN</td>\n",
       "      <td>False</td>\n",
       "    </tr>\n",
       "    <tr>\n",
       "      <th>31cc33d5-95de-4799-ad01-87c8498d1bde</th>\n",
       "      <td>2024-06-01 00:13:20</td>\n",
       "      <td>https://s3.ritm.media/yappy-db-duplicates/31cc33d5-95de-4799-ad01-87c8498d1bde.mp4</td>\n",
       "      <td>False</td>\n",
       "      <td>NaN</td>\n",
       "      <td>False</td>\n",
       "    </tr>\n",
       "    <tr>\n",
       "      <th>03abd0ec-609e-4eea-9f2a-b6b7442bc881</th>\n",
       "      <td>2024-06-01 00:27:23</td>\n",
       "      <td>https://s3.ritm.media/yappy-db-duplicates/03abd0ec-609e-4eea-9f2a-b6b7442bc881.mp4</td>\n",
       "      <td>False</td>\n",
       "      <td>NaN</td>\n",
       "      <td>False</td>\n",
       "    </tr>\n",
       "    <tr>\n",
       "      <th>22ee0045-004b-4c7e-98f2-77e5e02e2f15</th>\n",
       "      <td>2024-06-01 00:30:23</td>\n",
       "      <td>https://s3.ritm.media/yappy-db-duplicates/22ee0045-004b-4c7e-98f2-77e5e02e2f15.mp4</td>\n",
       "      <td>False</td>\n",
       "      <td>NaN</td>\n",
       "      <td>False</td>\n",
       "    </tr>\n",
       "  </tbody>\n",
       "</table>\n",
       "</div>"
      ],
      "text/plain": [
       "                                                  created  \\\n",
       "uuid                                                        \n",
       "23fac2f2-7f00-48cb-b3ac-aac8caa3b6b4  2024-06-01 00:05:43   \n",
       "2fa37210-3c25-4a87-88f2-1242c2c8a699  2024-06-01 00:11:01   \n",
       "31cc33d5-95de-4799-ad01-87c8498d1bde  2024-06-01 00:13:20   \n",
       "03abd0ec-609e-4eea-9f2a-b6b7442bc881  2024-06-01 00:27:23   \n",
       "22ee0045-004b-4c7e-98f2-77e5e02e2f15  2024-06-01 00:30:23   \n",
       "\n",
       "                                                                                                                    link  \\\n",
       "uuid                                                                                                                       \n",
       "23fac2f2-7f00-48cb-b3ac-aac8caa3b6b4  https://s3.ritm.media/yappy-db-duplicates/23fac2f2-7f00-48cb-b3ac-aac8caa3b6b4.mp4   \n",
       "2fa37210-3c25-4a87-88f2-1242c2c8a699  https://s3.ritm.media/yappy-db-duplicates/2fa37210-3c25-4a87-88f2-1242c2c8a699.mp4   \n",
       "31cc33d5-95de-4799-ad01-87c8498d1bde  https://s3.ritm.media/yappy-db-duplicates/31cc33d5-95de-4799-ad01-87c8498d1bde.mp4   \n",
       "03abd0ec-609e-4eea-9f2a-b6b7442bc881  https://s3.ritm.media/yappy-db-duplicates/03abd0ec-609e-4eea-9f2a-b6b7442bc881.mp4   \n",
       "22ee0045-004b-4c7e-98f2-77e5e02e2f15  https://s3.ritm.media/yappy-db-duplicates/22ee0045-004b-4c7e-98f2-77e5e02e2f15.mp4   \n",
       "\n",
       "                                      is_duplicate duplicate_for  is_hard  \n",
       "uuid                                                                       \n",
       "23fac2f2-7f00-48cb-b3ac-aac8caa3b6b4         False           NaN    False  \n",
       "2fa37210-3c25-4a87-88f2-1242c2c8a699         False           NaN    False  \n",
       "31cc33d5-95de-4799-ad01-87c8498d1bde         False           NaN    False  \n",
       "03abd0ec-609e-4eea-9f2a-b6b7442bc881         False           NaN    False  \n",
       "22ee0045-004b-4c7e-98f2-77e5e02e2f15         False           NaN    False  "
      ]
     },
     "execution_count": 13,
     "metadata": {},
     "output_type": "execute_result"
    }
   ],
   "source": [
    "metadata_train.head()"
   ]
  },
  {
   "cell_type": "code",
   "execution_count": 14,
   "id": "1eda38d8-f0a7-4e23-bec0-97a9b59beeff",
   "metadata": {},
   "outputs": [],
   "source": [
    "_not_in_index = set(id_to_uuid) - set(metadata_train.index)"
   ]
  },
  {
   "cell_type": "code",
   "execution_count": 15,
   "id": "e2affd10-20f2-4b42-9a4b-ce6811cb7b38",
   "metadata": {},
   "outputs": [
    {
     "data": {
      "text/plain": [
       "set()"
      ]
     },
     "execution_count": 15,
     "metadata": {},
     "output_type": "execute_result"
    }
   ],
   "source": [
    "_not_in_index"
   ]
  },
  {
   "cell_type": "code",
   "execution_count": 16,
   "id": "35aed52f-3473-4f7f-a1b8-a77140ad40f5",
   "metadata": {},
   "outputs": [],
   "source": [
    "#_dummy_data = pandas.DataFrame([['2020-06-01 00:05:43', '', False, numpy.nan, False] for _ in range(len(_not_in_index))], index=list(_not_in_index), columns=metadata_train.columns)\n",
    "#%metadata_train = pandas.concat([metadata_train, _dummy_data], axis=0)"
   ]
  },
  {
   "cell_type": "markdown",
   "id": "7bd95393-b586-4c8d-b7ab-d3c2ff954979",
   "metadata": {},
   "source": [
    "## Load embeddings"
   ]
  },
  {
   "cell_type": "code",
   "execution_count": 17,
   "id": "b15b5dc9-f2b9-47f6-83f2-d63a51da8dad",
   "metadata": {},
   "outputs": [
    {
     "data": {
      "text/plain": [
       "torch.Size([2000, 400])"
      ]
     },
     "execution_count": 17,
     "metadata": {},
     "output_type": "execute_result"
    }
   ],
   "source": [
    "torch_embeddings = torch.load(embeddings_path_torch)\n",
    "torch_embeddings.shape"
   ]
  },
  {
   "cell_type": "code",
   "execution_count": 18,
   "id": "fea0f176-aa18-4625-96ab-9de402afd3bf",
   "metadata": {},
   "outputs": [
    {
     "data": {
      "text/plain": [
       "tensor([[-5.3610e-01,  2.2627e+00,  1.5577e+00,  ...,  5.0714e-01,\n",
       "         -1.5675e-03,  3.8101e-01],\n",
       "        [ 5.0548e-01,  1.2463e+00, -9.8039e-01,  ..., -7.6966e-01,\n",
       "         -1.1751e-01,  1.0210e+00],\n",
       "        [ 1.0693e-02, -1.8525e-01, -4.1511e-01,  ..., -6.0840e-01,\n",
       "          1.3939e-01,  6.0030e-01],\n",
       "        ...,\n",
       "        [-1.6418e-01,  2.8743e+00,  2.2072e-01,  ..., -1.1432e-01,\n",
       "         -6.0881e-01,  1.8747e-01],\n",
       "        [-5.4414e-01,  7.0293e-01,  1.8913e+00,  ...,  1.4516e+00,\n",
       "         -6.6224e-01,  6.2969e-01],\n",
       "        [-8.4023e-01,  5.6275e+00,  3.3273e+00,  ...,  1.8207e+00,\n",
       "         -6.5340e-01, -4.3275e-01]])"
      ]
     },
     "execution_count": 18,
     "metadata": {},
     "output_type": "execute_result"
    }
   ],
   "source": [
    "torch_embeddings"
   ]
  },
  {
   "cell_type": "code",
   "execution_count": 19,
   "id": "757cf0c7-2145-4b44-bdaa-03f2c791b611",
   "metadata": {},
   "outputs": [],
   "source": [
    "embeddings = torch_embeddings.cpu().numpy().copy()\n",
    "faiss.normalize_L2(embeddings)"
   ]
  },
  {
   "cell_type": "code",
   "execution_count": 20,
   "id": "b5ba8daa-3e13-4e47-a929-375b64d2a8aa",
   "metadata": {},
   "outputs": [],
   "source": [
    "index = faiss.IndexFlatIP(torch_embeddings.shape[-1])"
   ]
  },
  {
   "cell_type": "code",
   "execution_count": 21,
   "id": "f4f707a8-acf3-4aa8-985d-3c7094851e42",
   "metadata": {},
   "outputs": [],
   "source": [
    "index.add(embeddings)"
   ]
  },
  {
   "cell_type": "markdown",
   "id": "fa1f8227-b019-4d5f-b4ee-a7893fd182c5",
   "metadata": {},
   "source": [
    "## Predict"
   ]
  },
  {
   "cell_type": "code",
   "execution_count": 22,
   "id": "9b083614-0b0f-4e12-b362-cd9ccc522f74",
   "metadata": {},
   "outputs": [],
   "source": [
    "from sklearn.metrics import accuracy_score, f1_score, precision_score, recall_score, roc_auc_score"
   ]
  },
  {
   "cell_type": "code",
   "execution_count": 23,
   "id": "cb51ea98-83ca-4627-a8fd-42e673ff8cd0",
   "metadata": {},
   "outputs": [],
   "source": [
    "y_score, distances, indices, processed_metadata = predict(index, embeddings, id_to_uuid, metadata_train)"
   ]
  },
  {
   "cell_type": "code",
   "execution_count": 47,
   "id": "7ac4d8d9-d24e-4876-a1f1-3b6dfe0cbadf",
   "metadata": {},
   "outputs": [],
   "source": [
    "treshold = 0.935\n",
    "y_pred = y_score > treshold\n",
    "y_true = metadata_train.loc[id_to_uuid][\"is_duplicate\"].to_numpy()# * metadata_train.loc[id_to_uuid][\"duplicate_for\"].isin(id_to_uuid).to_numpy()"
   ]
  },
  {
   "cell_type": "code",
   "execution_count": 50,
   "id": "71c5a003-e364-4113-afb3-983e02b6db33",
   "metadata": {},
   "outputs": [
    {
     "data": {
      "text/plain": [
       "0"
      ]
     },
     "execution_count": 50,
     "metadata": {},
     "output_type": "execute_result"
    }
   ],
   "source": [
    "(metadata_train.loc[id_to_uuid][\"is_duplicate\"].to_numpy() * (~metadata_train.loc[id_to_uuid][\"duplicate_for\"].isin(id_to_uuid).to_numpy())).sum()"
   ]
  },
  {
   "cell_type": "code",
   "execution_count": 48,
   "id": "2a702988-7836-4d00-adc8-7ccd9835c063",
   "metadata": {},
   "outputs": [
    {
     "name": "stdout",
     "output_type": "stream",
     "text": [
      "0.989\n",
      "0.96875\n",
      "0.5961538461538461\n",
      "0.7380952380952381\n",
      "0.9131999289211815\n"
     ]
    }
   ],
   "source": [
    "print(accuracy_score(y_true, y_pred))\n",
    "print(precision_score(y_true, y_pred))\n",
    "print(recall_score(y_true, y_pred))\n",
    "print(f1_score(y_true, y_pred))\n",
    "print(roc_auc_score(y_true, y_score))"
   ]
  },
  {
   "cell_type": "code",
   "execution_count": 27,
   "id": "24915594-7f00-4620-9c15-89622584b4d2",
   "metadata": {},
   "outputs": [],
   "source": [
    "loaded_metadata_train = metadata_train.loc[id_to_uuid]"
   ]
  },
  {
   "cell_type": "code",
   "execution_count": 28,
   "id": "567ff9d7-ed7e-4d5d-827f-d402c6a3f123",
   "metadata": {},
   "outputs": [
    {
     "ename": "ValueError",
     "evalue": "2",
     "output_type": "error",
     "traceback": [
      "\u001b[0;31m---------------------------------------------------------------------------\u001b[0m",
      "\u001b[0;31mValueError\u001b[0m                                Traceback (most recent call last)",
      "Cell \u001b[0;32mIn[28], line 2\u001b[0m\n\u001b[1;32m      1\u001b[0m loaded_metadata_train[\u001b[38;5;124m\"\u001b[39m\u001b[38;5;124my_score\u001b[39m\u001b[38;5;124m\"\u001b[39m] \u001b[38;5;241m=\u001b[39m y_score\n\u001b[0;32m----> 2\u001b[0m loaded_metadata_train[\u001b[38;5;124m\"\u001b[39m\u001b[38;5;124mduplicate_for_pred\u001b[39m\u001b[38;5;124m\"\u001b[39m] \u001b[38;5;241m=\u001b[39m id_to_uuid[indices]\n",
      "File \u001b[0;32m/opt/conda/lib/python3.10/site-packages/pandas/core/frame.py:4311\u001b[0m, in \u001b[0;36mDataFrame.__setitem__\u001b[0;34m(self, key, value)\u001b[0m\n\u001b[1;32m   4308\u001b[0m     \u001b[38;5;28mself\u001b[39m\u001b[38;5;241m.\u001b[39m_setitem_array([key], value)\n\u001b[1;32m   4309\u001b[0m \u001b[38;5;28;01melse\u001b[39;00m:\n\u001b[1;32m   4310\u001b[0m     \u001b[38;5;66;03m# set column\u001b[39;00m\n\u001b[0;32m-> 4311\u001b[0m     \u001b[38;5;28;43mself\u001b[39;49m\u001b[38;5;241;43m.\u001b[39;49m\u001b[43m_set_item\u001b[49m\u001b[43m(\u001b[49m\u001b[43mkey\u001b[49m\u001b[43m,\u001b[49m\u001b[43m \u001b[49m\u001b[43mvalue\u001b[49m\u001b[43m)\u001b[49m\n",
      "File \u001b[0;32m/opt/conda/lib/python3.10/site-packages/pandas/core/frame.py:4524\u001b[0m, in \u001b[0;36mDataFrame._set_item\u001b[0;34m(self, key, value)\u001b[0m\n\u001b[1;32m   4514\u001b[0m \u001b[38;5;28;01mdef\u001b[39;00m \u001b[38;5;21m_set_item\u001b[39m(\u001b[38;5;28mself\u001b[39m, key, value) \u001b[38;5;241m-\u001b[39m\u001b[38;5;241m>\u001b[39m \u001b[38;5;28;01mNone\u001b[39;00m:\n\u001b[1;32m   4515\u001b[0m \u001b[38;5;250m    \u001b[39m\u001b[38;5;124;03m\"\"\"\u001b[39;00m\n\u001b[1;32m   4516\u001b[0m \u001b[38;5;124;03m    Add series to DataFrame in specified column.\u001b[39;00m\n\u001b[1;32m   4517\u001b[0m \n\u001b[0;32m   (...)\u001b[0m\n\u001b[1;32m   4522\u001b[0m \u001b[38;5;124;03m    ensure homogeneity.\u001b[39;00m\n\u001b[1;32m   4523\u001b[0m \u001b[38;5;124;03m    \"\"\"\u001b[39;00m\n\u001b[0;32m-> 4524\u001b[0m     value, refs \u001b[38;5;241m=\u001b[39m \u001b[38;5;28;43mself\u001b[39;49m\u001b[38;5;241;43m.\u001b[39;49m\u001b[43m_sanitize_column\u001b[49m\u001b[43m(\u001b[49m\u001b[43mvalue\u001b[49m\u001b[43m)\u001b[49m\n\u001b[1;32m   4526\u001b[0m     \u001b[38;5;28;01mif\u001b[39;00m (\n\u001b[1;32m   4527\u001b[0m         key \u001b[38;5;129;01min\u001b[39;00m \u001b[38;5;28mself\u001b[39m\u001b[38;5;241m.\u001b[39mcolumns\n\u001b[1;32m   4528\u001b[0m         \u001b[38;5;129;01mand\u001b[39;00m value\u001b[38;5;241m.\u001b[39mndim \u001b[38;5;241m==\u001b[39m \u001b[38;5;241m1\u001b[39m\n\u001b[1;32m   4529\u001b[0m         \u001b[38;5;129;01mand\u001b[39;00m \u001b[38;5;129;01mnot\u001b[39;00m \u001b[38;5;28misinstance\u001b[39m(value\u001b[38;5;241m.\u001b[39mdtype, ExtensionDtype)\n\u001b[1;32m   4530\u001b[0m     ):\n\u001b[1;32m   4531\u001b[0m         \u001b[38;5;66;03m# broadcast across multiple columns if necessary\u001b[39;00m\n\u001b[1;32m   4532\u001b[0m         \u001b[38;5;28;01mif\u001b[39;00m \u001b[38;5;129;01mnot\u001b[39;00m \u001b[38;5;28mself\u001b[39m\u001b[38;5;241m.\u001b[39mcolumns\u001b[38;5;241m.\u001b[39mis_unique \u001b[38;5;129;01mor\u001b[39;00m \u001b[38;5;28misinstance\u001b[39m(\u001b[38;5;28mself\u001b[39m\u001b[38;5;241m.\u001b[39mcolumns, MultiIndex):\n",
      "File \u001b[0;32m/opt/conda/lib/python3.10/site-packages/pandas/core/frame.py:5267\u001b[0m, in \u001b[0;36mDataFrame._sanitize_column\u001b[0;34m(self, value)\u001b[0m\n\u001b[1;32m   5265\u001b[0m \u001b[38;5;28;01mif\u001b[39;00m is_list_like(value):\n\u001b[1;32m   5266\u001b[0m     com\u001b[38;5;241m.\u001b[39mrequire_length_match(value, \u001b[38;5;28mself\u001b[39m\u001b[38;5;241m.\u001b[39mindex)\n\u001b[0;32m-> 5267\u001b[0m arr \u001b[38;5;241m=\u001b[39m \u001b[43msanitize_array\u001b[49m\u001b[43m(\u001b[49m\u001b[43mvalue\u001b[49m\u001b[43m,\u001b[49m\u001b[43m \u001b[49m\u001b[38;5;28;43mself\u001b[39;49m\u001b[38;5;241;43m.\u001b[39;49m\u001b[43mindex\u001b[49m\u001b[43m,\u001b[49m\u001b[43m \u001b[49m\u001b[43mcopy\u001b[49m\u001b[38;5;241;43m=\u001b[39;49m\u001b[38;5;28;43;01mTrue\u001b[39;49;00m\u001b[43m,\u001b[49m\u001b[43m \u001b[49m\u001b[43mallow_2d\u001b[49m\u001b[38;5;241;43m=\u001b[39;49m\u001b[38;5;28;43;01mTrue\u001b[39;49;00m\u001b[43m)\u001b[49m\n\u001b[1;32m   5268\u001b[0m \u001b[38;5;28;01mif\u001b[39;00m (\n\u001b[1;32m   5269\u001b[0m     \u001b[38;5;28misinstance\u001b[39m(value, Index)\n\u001b[1;32m   5270\u001b[0m     \u001b[38;5;129;01mand\u001b[39;00m value\u001b[38;5;241m.\u001b[39mdtype \u001b[38;5;241m==\u001b[39m \u001b[38;5;124m\"\u001b[39m\u001b[38;5;124mobject\u001b[39m\u001b[38;5;124m\"\u001b[39m\n\u001b[0;32m   (...)\u001b[0m\n\u001b[1;32m   5273\u001b[0m     \u001b[38;5;66;03m# TODO: Remove kludge in sanitize_array for string mode when enforcing\u001b[39;00m\n\u001b[1;32m   5274\u001b[0m     \u001b[38;5;66;03m# this deprecation\u001b[39;00m\n\u001b[1;32m   5275\u001b[0m     warnings\u001b[38;5;241m.\u001b[39mwarn(\n\u001b[1;32m   5276\u001b[0m         \u001b[38;5;124m\"\u001b[39m\u001b[38;5;124mSetting an Index with object dtype into a DataFrame will stop \u001b[39m\u001b[38;5;124m\"\u001b[39m\n\u001b[1;32m   5277\u001b[0m         \u001b[38;5;124m\"\u001b[39m\u001b[38;5;124minferring another dtype in a future version. Cast the Index \u001b[39m\u001b[38;5;124m\"\u001b[39m\n\u001b[0;32m   (...)\u001b[0m\n\u001b[1;32m   5280\u001b[0m         stacklevel\u001b[38;5;241m=\u001b[39mfind_stack_level(),\n\u001b[1;32m   5281\u001b[0m     )\n",
      "File \u001b[0;32m/opt/conda/lib/python3.10/site-packages/pandas/core/construction.py:606\u001b[0m, in \u001b[0;36msanitize_array\u001b[0;34m(data, index, dtype, copy, allow_2d)\u001b[0m\n\u001b[1;32m    604\u001b[0m subarr \u001b[38;5;241m=\u001b[39m data\n\u001b[1;32m    605\u001b[0m \u001b[38;5;28;01mif\u001b[39;00m data\u001b[38;5;241m.\u001b[39mdtype \u001b[38;5;241m==\u001b[39m \u001b[38;5;28mobject\u001b[39m:\n\u001b[0;32m--> 606\u001b[0m     subarr \u001b[38;5;241m=\u001b[39m \u001b[43mmaybe_infer_to_datetimelike\u001b[49m\u001b[43m(\u001b[49m\u001b[43mdata\u001b[49m\u001b[43m)\u001b[49m\n\u001b[1;32m    607\u001b[0m     \u001b[38;5;28;01mif\u001b[39;00m (\n\u001b[1;32m    608\u001b[0m         object_index\n\u001b[1;32m    609\u001b[0m         \u001b[38;5;129;01mand\u001b[39;00m using_pyarrow_string_dtype()\n\u001b[1;32m    610\u001b[0m         \u001b[38;5;129;01mand\u001b[39;00m is_string_dtype(subarr)\n\u001b[1;32m    611\u001b[0m     ):\n\u001b[1;32m    612\u001b[0m         \u001b[38;5;66;03m# Avoid inference when string option is set\u001b[39;00m\n\u001b[1;32m    613\u001b[0m         subarr \u001b[38;5;241m=\u001b[39m data\n",
      "File \u001b[0;32m/opt/conda/lib/python3.10/site-packages/pandas/core/dtypes/cast.py:1181\u001b[0m, in \u001b[0;36mmaybe_infer_to_datetimelike\u001b[0;34m(value)\u001b[0m\n\u001b[1;32m   1178\u001b[0m     \u001b[38;5;28;01mraise\u001b[39;00m \u001b[38;5;167;01mTypeError\u001b[39;00m(\u001b[38;5;28mtype\u001b[39m(value))  \u001b[38;5;66;03m# pragma: no cover\u001b[39;00m\n\u001b[1;32m   1179\u001b[0m \u001b[38;5;28;01mif\u001b[39;00m value\u001b[38;5;241m.\u001b[39mndim \u001b[38;5;241m!=\u001b[39m \u001b[38;5;241m1\u001b[39m:\n\u001b[1;32m   1180\u001b[0m     \u001b[38;5;66;03m# Caller is responsible\u001b[39;00m\n\u001b[0;32m-> 1181\u001b[0m     \u001b[38;5;28;01mraise\u001b[39;00m \u001b[38;5;167;01mValueError\u001b[39;00m(value\u001b[38;5;241m.\u001b[39mndim)  \u001b[38;5;66;03m# pragma: no cover\u001b[39;00m\n\u001b[1;32m   1183\u001b[0m \u001b[38;5;28;01mif\u001b[39;00m \u001b[38;5;129;01mnot\u001b[39;00m \u001b[38;5;28mlen\u001b[39m(value):\n\u001b[1;32m   1184\u001b[0m     \u001b[38;5;28;01mreturn\u001b[39;00m value\n",
      "\u001b[0;31mValueError\u001b[0m: 2"
     ]
    }
   ],
   "source": [
    "loaded_metadata_train[\"y_score\"] = y_score\n",
    "loaded_metadata_train[\"duplicate_for_pred\"] = id_to_uuid[indices]"
   ]
  },
  {
   "cell_type": "code",
   "execution_count": null,
   "id": "b223ff36-c511-495d-bfba-3d2292653a47",
   "metadata": {},
   "outputs": [],
   "source": [
    "loaded_metadata_train[loaded_metadata_train[\"is_duplicate\"] > y_pred][[\"duplicate_for\", \"duplicate_for_pred\", \"y_score\"]]"
   ]
  },
  {
   "cell_type": "code",
   "execution_count": null,
   "id": "29f04b97-fa40-409b-a428-4d0907a2f40a",
   "metadata": {},
   "outputs": [],
   "source": [
    "loaded_metadata_train[loaded_metadata_train[\"is_duplicate\"] > y_pred][\"link\"]"
   ]
  },
  {
   "cell_type": "code",
   "execution_count": null,
   "id": "ffaac6fb-69d5-4946-acc3-72d5ef6eb4d2",
   "metadata": {},
   "outputs": [],
   "source": [
    "metadata_train.loc[loaded_metadata_train[loaded_metadata_train[\"is_duplicate\"] > y_pred][\"duplicate_for\"]][\"link\"]"
   ]
  },
  {
   "cell_type": "code",
   "execution_count": null,
   "id": "31e8ee38-8c6f-48c8-88e1-6732e576d2ad",
   "metadata": {},
   "outputs": [],
   "source": [
    "top_k = 3\n",
    "distances, indices = index.search(embeddings, top_k)"
   ]
  },
  {
   "cell_type": "code",
   "execution_count": null,
   "id": "2e024325-82e2-405d-aa1f-27431cfdfe7b",
   "metadata": {},
   "outputs": [],
   "source": [
    "distances"
   ]
  },
  {
   "cell_type": "code",
   "execution_count": null,
   "id": "f60b938b-9a7f-452e-a368-52266eccba98",
   "metadata": {},
   "outputs": [],
   "source": [
    "duplicate_candidates = distances[:,1] > 0.95"
   ]
  },
  {
   "cell_type": "code",
   "execution_count": null,
   "id": "7b2ea6e3-5e1b-49a3-82bd-5813b8643f24",
   "metadata": {},
   "outputs": [],
   "source": [
    "indices_1 = duplicate_candidates.nonzero()[0]\n",
    "indices_2 = indices[indices_1][:,1]"
   ]
  },
  {
   "cell_type": "code",
   "execution_count": null,
   "id": "2d689694-dd4a-4838-9159-423af4c4f0c1",
   "metadata": {},
   "outputs": [],
   "source": [
    "uuids_1 = numpy.array(id_to_uuid)[indices_1]\n",
    "uuids_2 = numpy.array(id_to_uuid)[indices_2]"
   ]
  },
  {
   "cell_type": "code",
   "execution_count": null,
   "id": "fbd31d58-592d-4fa4-8db7-1aa9d7562930",
   "metadata": {},
   "outputs": [],
   "source": [
    "index = 20\n",
    "print(metadata_train[metadata_train[\"uuid\"] == uuids_1[index]][\"link\"])\n",
    "print(metadata_train[metadata_train[\"uuid\"] == uuids_2[index]][\"link\"])\n",
    "print(distances[indices_1][index][1])"
   ]
  },
  {
   "cell_type": "code",
   "execution_count": null,
   "id": "5a5fba1b-9cdb-4219-87a5-af7e41819007",
   "metadata": {},
   "outputs": [],
   "source": []
  }
 ],
 "metadata": {
  "kernelspec": {
   "display_name": "Python 3 (ipykernel)",
   "language": "python",
   "name": "python3"
  },
  "language_info": {
   "codemirror_mode": {
    "name": "ipython",
    "version": 3
   },
   "file_extension": ".py",
   "mimetype": "text/x-python",
   "name": "python",
   "nbconvert_exporter": "python",
   "pygments_lexer": "ipython3",
   "version": "3.10.13"
  }
 },
 "nbformat": 4,
 "nbformat_minor": 5
}
