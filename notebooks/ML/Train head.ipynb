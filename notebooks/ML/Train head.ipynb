{
 "cells": [
  {
   "cell_type": "markdown",
   "id": "6a0c4372-dc01-458b-83bd-960d7682b00c",
   "metadata": {},
   "source": [
    "# Train head over embeddings"
   ]
  },
  {
   "cell_type": "code",
   "execution_count": 1,
   "id": "a3121d63-b59b-40e3-aed7-440a61981ddc",
   "metadata": {},
   "outputs": [],
   "source": [
    "import torch\n",
    "import torchvision\n",
    "import pytorchvideo"
   ]
  },
  {
   "cell_type": "code",
   "execution_count": 2,
   "id": "8bd1edb9-729b-429c-a209-1817d7ac5847",
   "metadata": {},
   "outputs": [
    {
     "name": "stdout",
     "output_type": "stream",
     "text": [
      "Device: cuda:1\n",
      "Devices count: 2\n"
     ]
    }
   ],
   "source": [
    "torch.cuda.empty_cache()\n",
    "#device = \"cpu\"\n",
    "device = \"cuda:1\" if torch.cuda.is_available() else \"cpu\"\n",
    "print(\"Device: \" + device)\n",
    "print(f\"Devices count: {torch.cuda.device_count()}\")"
   ]
  },
  {
   "cell_type": "code",
   "execution_count": 3,
   "id": "08ad6d73-5e0a-4be1-a215-725a055a541d",
   "metadata": {},
   "outputs": [],
   "source": [
    "from pathlib import Path"
   ]
  },
  {
   "cell_type": "code",
   "execution_count": 4,
   "id": "a7d9edaf-f7a9-44f9-b67d-791802e2ee67",
   "metadata": {},
   "outputs": [],
   "source": [
    "import json\n",
    "import pandas\n",
    "import numpy"
   ]
  },
  {
   "cell_type": "code",
   "execution_count": 5,
   "id": "0e0f749a-f417-4b63-bc92-173d5366691c",
   "metadata": {},
   "outputs": [],
   "source": [
    "from tqdm import tqdm"
   ]
  },
  {
   "cell_type": "code",
   "execution_count": 6,
   "id": "f4c063a0-a803-4e6c-b3f3-2cfaf22bd0c2",
   "metadata": {},
   "outputs": [
    {
     "name": "stderr",
     "output_type": "stream",
     "text": [
      "/opt/conda/lib/python3.10/site-packages/torchvision/transforms/_functional_video.py:6: UserWarning: The 'torchvision.transforms._functional_video' module is deprecated since 0.12 and will be removed in the future. Please use the 'torchvision.transforms.functional' module instead.\n",
      "  warnings.warn(\n",
      "/opt/conda/lib/python3.10/site-packages/torchvision/transforms/_transforms_video.py:22: UserWarning: The 'torchvision.transforms._transforms_video' module is deprecated since 0.12 and will be removed in the future. Please use the 'torchvision.transforms' module instead.\n",
      "  warnings.warn(\n"
     ]
    }
   ],
   "source": [
    "from misc.utils_mvit import *\n",
    "from misc.embeddings import *"
   ]
  },
  {
   "cell_type": "code",
   "execution_count": 7,
   "id": "0076c02f-4d5f-4e2d-9fcf-87d9851cc593",
   "metadata": {},
   "outputs": [],
   "source": [
    "data_path = Path(\"./data\")\n",
    "videos_path = data_path / \"train_dataset\"\n",
    "metadata_path = data_path / \"train.csv\""
   ]
  },
  {
   "cell_type": "code",
   "execution_count": 8,
   "id": "dc4a4e03-e7d2-443d-9e90-5d58ad8de7d1",
   "metadata": {},
   "outputs": [],
   "source": [
    "filenames = walk_directory(videos_path)\n",
    "filenames = sorted(filenames)"
   ]
  },
  {
   "cell_type": "markdown",
   "id": "bb17c534-5a91-445e-be5b-7a718382a5dd",
   "metadata": {},
   "source": [
    "## Model"
   ]
  },
  {
   "cell_type": "code",
   "execution_count": 9,
   "id": "af0fe9a1-2ef2-48c1-82ed-6bd567cbb6a7",
   "metadata": {},
   "outputs": [],
   "source": [
    "#model_name = \"mvit_v1_b\"\n",
    "model_name = \"mvit_v2_s\"\n",
    "backbone = getattr(torchvision.models.video, model_name)(weights=torchvision.models.video.MViT_V2_S_Weights.KINETICS400_V1)"
   ]
  },
  {
   "cell_type": "code",
   "execution_count": 10,
   "id": "8c968f68-9418-494f-ba59-6f4ac44a9ccf",
   "metadata": {},
   "outputs": [],
   "source": [
    "backbone = backbone.to(device)\n",
    "backbone = backbone.eval()"
   ]
  },
  {
   "cell_type": "code",
   "execution_count": 11,
   "id": "3db49df1-f88c-49e4-9f97-aab2fd4ed554",
   "metadata": {},
   "outputs": [],
   "source": [
    "head = torch.nn.Sequential(\n",
    "    torch.nn.Linear(400, 64),\n",
    "    torch.nn.BatchNorm1d(64, affine=False),\n",
    ").to(device)"
   ]
  },
  {
   "cell_type": "code",
   "execution_count": 12,
   "id": "b9d1461e-6514-42c0-9f15-1209e634f660",
   "metadata": {},
   "outputs": [],
   "source": [
    "encoder = VideoEncoder(\n",
    "    backbone,\n",
    "    head,\n",
    "    torchvision.models.video.MViT_V1_B_Weights.KINETICS400_V1.transforms()\n",
    ").to(device)"
   ]
  },
  {
   "cell_type": "markdown",
   "id": "f5676df4-187b-4c23-a75e-001130e37a52",
   "metadata": {},
   "source": [
    "## Load embeddings"
   ]
  },
  {
   "cell_type": "code",
   "execution_count": 13,
   "id": "3c30f302-7a3c-4945-8722-3281447cd122",
   "metadata": {},
   "outputs": [],
   "source": [
    "embeddings_path = data_path / model_name"
   ]
  },
  {
   "cell_type": "code",
   "execution_count": 14,
   "id": "dd9122d9-b470-4829-8dc0-93f977372702",
   "metadata": {},
   "outputs": [],
   "source": [
    "embeddings_path_torch = embeddings_path / \"new_embeddings.pt\"\n",
    "embeddings_uuid_path  = embeddings_path / \"new_embeddings_uuid.csv\""
   ]
  },
  {
   "cell_type": "code",
   "execution_count": 15,
   "id": "934d759b-fc34-409a-994e-5b05b9dcf4d0",
   "metadata": {},
   "outputs": [],
   "source": [
    "metadata_train  = pandas.read_csv(metadata_path)#, index_col=\"uuid\")\n",
    "embeddings_uuid = pandas.read_csv(embeddings_uuid_path)"
   ]
  },
  {
   "cell_type": "code",
   "execution_count": 16,
   "id": "b8d2242f-9b18-4f4d-bfea-8c4d556dded9",
   "metadata": {},
   "outputs": [],
   "source": [
    "id_to_uuid = embeddings_uuid[\"uuid\"].to_numpy()\n",
    "uuid_to_id = defaultdict(lambda: -1, {value: index for index, value in enumerate(id_to_uuid)})"
   ]
  },
  {
   "cell_type": "code",
   "execution_count": 17,
   "id": "0a7659a3-3783-4d6f-baa6-4c4667338af5",
   "metadata": {},
   "outputs": [
    {
     "data": {
      "text/html": [
       "<div>\n",
       "<style scoped>\n",
       "    .dataframe tbody tr th:only-of-type {\n",
       "        vertical-align: middle;\n",
       "    }\n",
       "\n",
       "    .dataframe tbody tr th {\n",
       "        vertical-align: top;\n",
       "    }\n",
       "\n",
       "    .dataframe thead th {\n",
       "        text-align: right;\n",
       "    }\n",
       "</style>\n",
       "<table border=\"1\" class=\"dataframe\">\n",
       "  <thead>\n",
       "    <tr style=\"text-align: right;\">\n",
       "      <th></th>\n",
       "      <th>created</th>\n",
       "      <th>uuid</th>\n",
       "      <th>link</th>\n",
       "      <th>is_duplicate</th>\n",
       "      <th>duplicate_for</th>\n",
       "      <th>is_hard</th>\n",
       "    </tr>\n",
       "  </thead>\n",
       "  <tbody>\n",
       "    <tr>\n",
       "      <th>0</th>\n",
       "      <td>2024-06-01 00:05:43</td>\n",
       "      <td>23fac2f2-7f00-48cb-b3ac-aac8caa3b6b4</td>\n",
       "      <td>https://s3.ritm.media/yappy-db-duplicates/23fa...</td>\n",
       "      <td>False</td>\n",
       "      <td>NaN</td>\n",
       "      <td>False</td>\n",
       "    </tr>\n",
       "    <tr>\n",
       "      <th>1</th>\n",
       "      <td>2024-06-01 00:11:01</td>\n",
       "      <td>2fa37210-3c25-4a87-88f2-1242c2c8a699</td>\n",
       "      <td>https://s3.ritm.media/yappy-db-duplicates/2fa3...</td>\n",
       "      <td>False</td>\n",
       "      <td>NaN</td>\n",
       "      <td>False</td>\n",
       "    </tr>\n",
       "    <tr>\n",
       "      <th>2</th>\n",
       "      <td>2024-06-01 00:13:20</td>\n",
       "      <td>31cc33d5-95de-4799-ad01-87c8498d1bde</td>\n",
       "      <td>https://s3.ritm.media/yappy-db-duplicates/31cc...</td>\n",
       "      <td>False</td>\n",
       "      <td>NaN</td>\n",
       "      <td>False</td>\n",
       "    </tr>\n",
       "    <tr>\n",
       "      <th>3</th>\n",
       "      <td>2024-06-01 00:27:23</td>\n",
       "      <td>03abd0ec-609e-4eea-9f2a-b6b7442bc881</td>\n",
       "      <td>https://s3.ritm.media/yappy-db-duplicates/03ab...</td>\n",
       "      <td>False</td>\n",
       "      <td>NaN</td>\n",
       "      <td>False</td>\n",
       "    </tr>\n",
       "    <tr>\n",
       "      <th>4</th>\n",
       "      <td>2024-06-01 00:30:23</td>\n",
       "      <td>22ee0045-004b-4c7e-98f2-77e5e02e2f15</td>\n",
       "      <td>https://s3.ritm.media/yappy-db-duplicates/22ee...</td>\n",
       "      <td>False</td>\n",
       "      <td>NaN</td>\n",
       "      <td>False</td>\n",
       "    </tr>\n",
       "    <tr>\n",
       "      <th>...</th>\n",
       "      <td>...</td>\n",
       "      <td>...</td>\n",
       "      <td>...</td>\n",
       "      <td>...</td>\n",
       "      <td>...</td>\n",
       "      <td>...</td>\n",
       "    </tr>\n",
       "    <tr>\n",
       "      <th>22758</th>\n",
       "      <td>2024-09-12 13:46:57</td>\n",
       "      <td>0efe756a-e965-40c1-94db-de7f3e6649a9</td>\n",
       "      <td>https://s3.ritm.media/yappy-db-duplicates/0efe...</td>\n",
       "      <td>True</td>\n",
       "      <td>131846f3-6f5c-497a-a2fa-95cfb3929301</td>\n",
       "      <td>False</td>\n",
       "    </tr>\n",
       "    <tr>\n",
       "      <th>22759</th>\n",
       "      <td>2024-09-12 14:46:13</td>\n",
       "      <td>caec3b94-e356-4576-b00a-515e0df1dfc3</td>\n",
       "      <td>https://s3.ritm.media/yappy-db-duplicates/caec...</td>\n",
       "      <td>True</td>\n",
       "      <td>3b5eb15a-c6d7-4214-8dd6-c029564ff11d</td>\n",
       "      <td>False</td>\n",
       "    </tr>\n",
       "    <tr>\n",
       "      <th>22760</th>\n",
       "      <td>2024-09-13 09:08:42</td>\n",
       "      <td>c5b69151-f240-4e27-a5c9-c41f79a167e9</td>\n",
       "      <td>https://s3.ritm.media/yappy-db-duplicates/c5b6...</td>\n",
       "      <td>True</td>\n",
       "      <td>17ecc94a-f28a-40d5-b438-86b6e82a2fef</td>\n",
       "      <td>False</td>\n",
       "    </tr>\n",
       "    <tr>\n",
       "      <th>22761</th>\n",
       "      <td>2024-09-13 14:52:21</td>\n",
       "      <td>6d3233b6-f8de-49ba-8697-bb30dbf825f7</td>\n",
       "      <td>https://s3.ritm.media/yappy-db-duplicates/6d32...</td>\n",
       "      <td>True</td>\n",
       "      <td>1838f7a7-ef2a-4141-a125-90fb5bf0c5a2</td>\n",
       "      <td>False</td>\n",
       "    </tr>\n",
       "    <tr>\n",
       "      <th>22762</th>\n",
       "      <td>2024-09-14 04:05:45</td>\n",
       "      <td>5317969a-3c90-47ed-82cd-68033f6faefd</td>\n",
       "      <td>https://s3.ritm.media/yappy-db-duplicates/5317...</td>\n",
       "      <td>True</td>\n",
       "      <td>38a39db6-0c47-47df-8141-6cb9bd509871</td>\n",
       "      <td>False</td>\n",
       "    </tr>\n",
       "  </tbody>\n",
       "</table>\n",
       "<p>22763 rows × 6 columns</p>\n",
       "</div>"
      ],
      "text/plain": [
       "                   created                                  uuid  \\\n",
       "0      2024-06-01 00:05:43  23fac2f2-7f00-48cb-b3ac-aac8caa3b6b4   \n",
       "1      2024-06-01 00:11:01  2fa37210-3c25-4a87-88f2-1242c2c8a699   \n",
       "2      2024-06-01 00:13:20  31cc33d5-95de-4799-ad01-87c8498d1bde   \n",
       "3      2024-06-01 00:27:23  03abd0ec-609e-4eea-9f2a-b6b7442bc881   \n",
       "4      2024-06-01 00:30:23  22ee0045-004b-4c7e-98f2-77e5e02e2f15   \n",
       "...                    ...                                   ...   \n",
       "22758  2024-09-12 13:46:57  0efe756a-e965-40c1-94db-de7f3e6649a9   \n",
       "22759  2024-09-12 14:46:13  caec3b94-e356-4576-b00a-515e0df1dfc3   \n",
       "22760  2024-09-13 09:08:42  c5b69151-f240-4e27-a5c9-c41f79a167e9   \n",
       "22761  2024-09-13 14:52:21  6d3233b6-f8de-49ba-8697-bb30dbf825f7   \n",
       "22762  2024-09-14 04:05:45  5317969a-3c90-47ed-82cd-68033f6faefd   \n",
       "\n",
       "                                                    link  is_duplicate  \\\n",
       "0      https://s3.ritm.media/yappy-db-duplicates/23fa...         False   \n",
       "1      https://s3.ritm.media/yappy-db-duplicates/2fa3...         False   \n",
       "2      https://s3.ritm.media/yappy-db-duplicates/31cc...         False   \n",
       "3      https://s3.ritm.media/yappy-db-duplicates/03ab...         False   \n",
       "4      https://s3.ritm.media/yappy-db-duplicates/22ee...         False   \n",
       "...                                                  ...           ...   \n",
       "22758  https://s3.ritm.media/yappy-db-duplicates/0efe...          True   \n",
       "22759  https://s3.ritm.media/yappy-db-duplicates/caec...          True   \n",
       "22760  https://s3.ritm.media/yappy-db-duplicates/c5b6...          True   \n",
       "22761  https://s3.ritm.media/yappy-db-duplicates/6d32...          True   \n",
       "22762  https://s3.ritm.media/yappy-db-duplicates/5317...          True   \n",
       "\n",
       "                              duplicate_for  is_hard  \n",
       "0                                       NaN    False  \n",
       "1                                       NaN    False  \n",
       "2                                       NaN    False  \n",
       "3                                       NaN    False  \n",
       "4                                       NaN    False  \n",
       "...                                     ...      ...  \n",
       "22758  131846f3-6f5c-497a-a2fa-95cfb3929301    False  \n",
       "22759  3b5eb15a-c6d7-4214-8dd6-c029564ff11d    False  \n",
       "22760  17ecc94a-f28a-40d5-b438-86b6e82a2fef    False  \n",
       "22761  1838f7a7-ef2a-4141-a125-90fb5bf0c5a2    False  \n",
       "22762  38a39db6-0c47-47df-8141-6cb9bd509871    False  \n",
       "\n",
       "[22763 rows x 6 columns]"
      ]
     },
     "execution_count": 17,
     "metadata": {},
     "output_type": "execute_result"
    }
   ],
   "source": [
    "metadata_train"
   ]
  },
  {
   "cell_type": "code",
   "execution_count": 18,
   "id": "f7445979-db5b-4cf5-9735-be2c8375d4f3",
   "metadata": {},
   "outputs": [],
   "source": [
    "_not_in_index = set(id_to_uuid) - set(metadata_train.index)\n",
    "_not_in_index = list(_not_in_index)\n",
    "\n",
    "_dummy_data = pandas.DataFrame([['2020-06-01 00:05:43', uuid, '', False, numpy.nan, False] for uuid in range(len(_not_in_index))], index=list(_not_in_index), columns=metadata_train.columns)\n",
    "metadata_train = pandas.concat([metadata_train, _dummy_data], axis=0)"
   ]
  },
  {
   "cell_type": "code",
   "execution_count": 19,
   "id": "d5295ab6-4bda-4e85-aa60-6824fcf259c5",
   "metadata": {},
   "outputs": [],
   "source": [
    "embeddings = torch.load(embeddings_path_torch)"
   ]
  },
  {
   "cell_type": "code",
   "execution_count": 20,
   "id": "18af4781-79a7-43f4-ab7a-6fb8a2499986",
   "metadata": {},
   "outputs": [],
   "source": [
    "positive_pairs = metadata_train[metadata_train[\"is_duplicate\"] == True][[\"uuid\", \"duplicate_for\"]]"
   ]
  },
  {
   "cell_type": "code",
   "execution_count": 21,
   "id": "4d46b9b9-d674-4065-9f13-ffce301a4b13",
   "metadata": {},
   "outputs": [],
   "source": [
    "positive_pairs[\"uuid\"] = positive_pairs[\"uuid\"].map(uuid_to_id)\n",
    "positive_pairs[\"duplicate_for\"] = positive_pairs[\"duplicate_for\"].map(uuid_to_id)"
   ]
  },
  {
   "cell_type": "code",
   "execution_count": 22,
   "id": "f50938e8-fe66-4f42-ab75-86746aeebde7",
   "metadata": {},
   "outputs": [],
   "source": [
    "positive_pairs = positive_pairs.loc[(positive_pairs >= 0).all(axis=1)]"
   ]
  },
  {
   "cell_type": "code",
   "execution_count": 23,
   "id": "c263aecf-c3b2-4922-b321-71e61898805a",
   "metadata": {},
   "outputs": [
    {
     "data": {
      "text/plain": [
       "(280, 2)"
      ]
     },
     "execution_count": 23,
     "metadata": {},
     "output_type": "execute_result"
    }
   ],
   "source": [
    "positive_pairs.shape"
   ]
  },
  {
   "cell_type": "markdown",
   "id": "fd9625f1-feab-4d83-b649-11cc28d335d7",
   "metadata": {},
   "source": [
    "## Train"
   ]
  },
  {
   "cell_type": "code",
   "execution_count": 24,
   "id": "ca795eea-4dc5-4f76-90b8-a3110cb99763",
   "metadata": {},
   "outputs": [],
   "source": [
    "#train_dataset = ContrastiveDuplicatesDataset(embeddings, positive_pairs.to_numpy()[numpy.random.choice(100, size=100),:], n_negatives=32)\n",
    "train_dataset = ContrastiveDuplicatesDataset(embeddings, positive_pairs.to_numpy(), n_negatives=32)"
   ]
  },
  {
   "cell_type": "code",
   "execution_count": 25,
   "id": "75ea9049-db09-462f-9e12-dd99e1d72955",
   "metadata": {},
   "outputs": [],
   "source": [
    "train_dataloader = torch.utils.data.DataLoader(train_dataset, batch_size=32, shuffle=True)\n",
    "test_dataloader  = torch.utils.data.DataLoader(train_dataset, batch_size=32, shuffle=False)"
   ]
  },
  {
   "cell_type": "code",
   "execution_count": 26,
   "id": "04b9cc33-850f-4ebc-9f42-4cb3ed924a3b",
   "metadata": {},
   "outputs": [
    {
     "name": "stderr",
     "output_type": "stream",
     "text": [
      "100%|███████████████████████████████████████████████████████████████████████████████████████████████████████████████████████████████████████████████████████| 100/100 [00:09<00:00, 10.85it/s]\n"
     ]
    }
   ],
   "source": [
    "history = train_head(encoder, train_dataloader, test_dataloader, device=device, n_epochs=100)"
   ]
  },
  {
   "cell_type": "code",
   "execution_count": 27,
   "id": "6674fe6f-e93a-45cc-b6a0-a159af88d31d",
   "metadata": {},
   "outputs": [],
   "source": [
    "with torch.no_grad():\n",
    "    new_embeddings = encoder.head(embeddings.to(device)).detach().cpu()"
   ]
  },
  {
   "cell_type": "code",
   "execution_count": 28,
   "id": "2718c6ee-0a3c-40f7-b40c-9dc92746e353",
   "metadata": {},
   "outputs": [],
   "source": [
    "new_embeddings_path_torch = embeddings_path / \"headed_embeddings.pt\"\n",
    "torch.save(new_embeddings, new_embeddings_path_torch)"
   ]
  },
  {
   "cell_type": "code",
   "execution_count": null,
   "id": "021cda91-46dc-43b0-9ada-fa42fa9de946",
   "metadata": {},
   "outputs": [],
   "source": []
  }
 ],
 "metadata": {
  "kernelspec": {
   "display_name": "Python 3 (ipykernel)",
   "language": "python",
   "name": "python3"
  },
  "language_info": {
   "codemirror_mode": {
    "name": "ipython",
    "version": 3
   },
   "file_extension": ".py",
   "mimetype": "text/x-python",
   "name": "python",
   "nbconvert_exporter": "python",
   "pygments_lexer": "ipython3",
   "version": "3.10.13"
  }
 },
 "nbformat": 4,
 "nbformat_minor": 5
}
